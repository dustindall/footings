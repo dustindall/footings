{
 "metadata": {
  "language_info": {
   "codemirror_mode": {
    "name": "ipython",
    "version": 3
   },
   "file_extension": ".py",
   "mimetype": "text/x-python",
   "name": "python",
   "nbconvert_exporter": "python",
   "pygments_lexer": "ipython3",
   "version": "3.7.7-final"
  },
  "orig_nbformat": 2,
  "kernelspec": {
   "name": "python3",
   "display_name": "Python 3"
  }
 },
 "nbformat": 4,
 "nbformat_minor": 2,
 "cells": [
  {
   "cell_type": "markdown",
   "metadata": {},
   "source": [
    "# User Guide"
   ]
  },
  {
   "cell_type": "markdown",
   "metadata": {},
   "source": [
    "## Planning out the model\n",
    "\n",
    "This document is intended to be a thought exercise and user guide on how to build models with the footings framework. Below are a series of items to think about as a model is planned out.\n",
    "\n",
    "- What is the objective of the model?\n",
    "- What should the model return?\n",
    "- What steps can we break the model up into?\n",
    "- What parameters will we need to pass to the model?\n",
    "- Is there any metadata we want to attached to the model (e.g., run date/time, model version)?\n",
    "\n",
    "\n",
    "Note these items are listed sequentially, though, there is likely to be some iteration between these items as users sit down to work on them."
   ]
  },
  {
   "cell_type": "markdown",
   "metadata": {},
   "source": [
    "**Objective of the model**\n",
    "\n",
    "When looking to build a model, you first need to define what the objective of the model is. That is, what do we want the model to accomplish.\n",
    "\n",
    "To demonstrate how to build a model with the footings framework we are going to use the example objective - **build a simple model to calculate disabled life reserves (DLR)**. A disabled life reserve is a reserve that is established once a policy holder has a qualifying event to receive future benefit payments. The reserve is the present value of expected future benefit payments with a decrement for lives inforce where the lives inforce is calculated using a claim termination rate (CTR).\n"
   ]
  },
  {
   "cell_type": "markdown",
   "metadata": {},
   "source": [
    "**What do we want the model to return**\n",
    "\n",
    "Knowing what we the model to do, one can start the planning process for what the model whould return.\n",
    "\n",
    "Continuing with the DLR example, the model needs to return -\n",
    "\n",
    "- output structured as a table with rows showing projected dates to the end of the benefit period,\n",
    "- the expected future benefit over time (can change based on cost of living adjustments (COLA) or other offsets),\n",
    "- the claim termination rate for each duration (i.e., each projected date),\n",
    "- the lives inforce for each duration, and\n",
    "- the discount factor for each duration (used to calcualte the present value of benefits).\n",
    "\n",
    "The table would look similar to the table below.\n",
    "\n",
    "+-----------------+-------------------+------+---------------+-----------------+----------------+\n",
    "| Projected Dates | Expected Benefit  | CTR  | Lives Inforce | Discount Factor | PV of Benefits |\n",
    "+=================+===================+======+===============+=================+================+\n",
    "| 2019-12-31      | $0                | 0.00 | 1.000         | 1.000           |                |\n",
    "+-----------------+-------------------+------+---------------+-----------------+----------------+\n",
    "| 2020-01-31      | $100              | 0.05 | 0.950         | 0.980           |                |\n",
    "+-----------------+-------------------+------+---------------+-----------------+----------------+\n",
    "| 2020-02-28      | $100              | 0.06 | 0.892         | 0.960           |                |\n",
    "+-----------------+-------------------+------+---------------+-----------------+----------------+\n",
    "| ...             | ...               | ...  | ...           | ...             | ...            |\n",
    "+-----------------+-------------------+------+---------------+-----------------+----------------+\n",
    "\n",
    "In addition, attributes and keys such as policy id, claim id, etc. should  be added to the output to idenfiy who the reserve is calculated for."
   ]
  },
  {
   "cell_type": "markdown",
   "metadata": {},
   "source": [
    "**Steps to the model**\n",
    "\n",
    "Having an understand of the objective of the model and what the model needs to produce, the model can be broken down into smaller components or steps.\n",
    "\n",
    "Continuing with the example, we can use the bulleted list of items to return from the model from the section above to drive the steps.\n",
    "\n",
    "Thus, the steps will be -\n",
    "\n",
    "1. Create a table with projected durations (i.e., dates) given an as of date and the ending benefit date for a disabled claimant.\n",
    "2. Calculate the expected future benefits considering COLA and any offsets.\n",
    "3. Calculate the claim termination rate for each duration given the attributes that drive the claim termination rate (e.g., gender, attained age, etc.).\n",
    "4. Calculate the lives inforce for each duration.\n",
    "5. Calculate the discount rate for each duration given an interest rate.\n",
    "6. Calculate the present value (pv) of future benefits.\n",
    "7. Prepare table for final output.\n"
   ]
  },
  {
   "cell_type": "markdown",
   "metadata": {},
   "source": [
    "**Parameters to the model**\n",
    "\n",
    "Building off the objective, what the model needs to return, and the steps, one should have an idea of what parameters we need to expose to the end user to be able to use the model. Defining the parameters is probably the part that will require the most iteration as any change to required output or the underlying steps can change the parameters that are required of the model. In addition, there is additional effort by the developer to think about the data type of the parameters, whether a restricted set of values should be used, is there a min or max limit to values passed, etc.\n",
    "\n",
    "Continuing with our example of building a DLR model -\n",
    "\n",
    "- Step #1 requires an input for the `valuation date` (i.e., the as of date) and the `benefit end date`.\n",
    "- Step #2 requires the `benefit amount` at the valuation date and a `COLA percent` (we will assume no offsets).\n",
    "- Step #3 requires `gender` and `occupation class` as parameters as they drive the claim termination rate (this is assumed for demo only).\n",
    "- Step #4 does not require any inputs as it will use the claim termination rate developed in step #3.\n",
    "- Step #5 requires an `interest rate` to calcualte the discount.\n",
    "- Step #6 does not require any inputs as we are calculating the final pv of benefits.\n",
    "- Step #7 doe not require any inputs as it simply is preping the data for final output.\n",
    "\n",
    "In addition, we want to include parameters for policy id and claim id so we known who the reserve is calcualted for.\n",
    "\n",
    "Thus, the final list of parameters is below -\n",
    "\n",
    "- policy_id\n",
    "- claim_id\n",
    "- valuation_date\n",
    "- benefit_end_date\n",
    "- benefit_amount\n",
    "- cola_percent\n",
    "- gender\n",
    "- occupation_class\n",
    "- interest_rate\n"
   ]
  },
  {
   "cell_type": "markdown",
   "metadata": {},
   "source": [
    "**Meta data for the model**\n",
    "\n",
    "Lastly, when developing a model with the footings framework, we need to decide what metadata we want the model to contain. Metadata is any data we want to exist within the model that does not need to be passed as a parameter by the model user. Examples of this include having the model generate a timestamp of the current time the model is run or the model version.\n",
    "\n",
    "Continuing with the DLR example, we will add a metadata element to capture the run date/time.\n"
   ]
  },
  {
   "cell_type": "markdown",
   "metadata": {},
   "source": [
    "## Building the model\n",
    "\n",
    "A model in the footings framework is a standalone class which inherits from the built-in `Footing` class. The model needs to be defined using standard python notation of `class Model(Footing)`. In addition, the model needs to be decorated with `@model(steps=[\"step_1\", \"step_2\", ...])` and include a list of the names of the steps to the model. Inheriting from Footing provides the key methods to run, audit, and visualize the model while decorating the model with `@model` defines the step order to run the model and provides some control checks. \n",
    "\n",
    "Steps in the model are represented as methods. It is a best practice to use an underscore when creating a step method. In addition, all steps are required to be decorated with `@step` and a listing of what attributes are used and assets or placeholders are impacted. \n",
    "\n",
    "Below is how our example DLR model is built using the Footings framework. Each component will be discussed in the following sections."
   ]
  },
  {
   "cell_type": "code",
   "execution_count": 1,
   "metadata": {},
   "outputs": [],
   "source": [
    "from footings import define_parameter, define_meta, define_asset, model, Footing, step\n",
    "from footings.model_tools import run_date_time, create_frame\n",
    "import pandas as pd\n",
    "\n",
    "STEPS = [\n",
    "    \"_create_projected_frame\", \n",
    "    \"_calculate_expected_benefit\", \n",
    "    \"_calculate_ctr\", \n",
    "    \"_calculate_lives_inforce\", \n",
    "    \"_calculcate_discount\", \n",
    "    \"_calculate_pv_benefits\", \n",
    "    \"_prepare_final_output\",\n",
    "]\n",
    "\n",
    "@model(steps=STEPS)\n",
    "class DLRModel(Footing):\n",
    "    \"\"\"Simple DLR model example.\"\"\"\n",
    "\n",
    "    policy_id = define_parameter(\n",
    "        dtype=str, \n",
    "        description=\"The policy id of the disabled policy holder.\"\n",
    "    )\n",
    "    claim_id = define_parameter(\n",
    "        dtype=str, \n",
    "        description=\"The claim id of the disabled policy holder.\"\n",
    "    )\n",
    "    valuation_date = define_parameter(\n",
    "        dtype=pd.Timestamp, \n",
    "        description=\"The valuation date the model needs to be ran as of.\"\n",
    "    )\n",
    "    benefit_end_date = define_parameter(\n",
    "        dtype=pd.Timestamp, \n",
    "        description=\"The benefit end date for the disabled policy holder.\"\n",
    "    )\n",
    "    benefit_amount = define_parameter(\n",
    "        dtype=float, \n",
    "        description=\"The benefit amount as of the valuation date.\"\n",
    "    )\n",
    "    cola_percent = define_parameter(\n",
    "        dtype=float, \n",
    "        min_val=0, \n",
    "        max_val=0.05, \n",
    "        description=\"The cost of living adjustment.\"\n",
    "    )\n",
    "    gender = define_parameter(\n",
    "        dtype=str, \n",
    "        allowed=[\"M\", \"F\"], \n",
    "        description=\"The gender of the disabled policy holder.\"\n",
    "    )\n",
    "    occupation_class = define_parameter(\n",
    "        dtype=str, \n",
    "        allowed=[\"1\", \"2\"], \n",
    "        description=\"The occupation class of the disabled policy holder.\"\n",
    "    )\n",
    "    interest_rate = define_parameter(\n",
    "        dtype=float, \n",
    "        min_val=0, \n",
    "        max_val=0.10, \n",
    "        description=\"The interest rate used for discounting.\"\n",
    "    )\n",
    "    run_date_time = define_meta(\n",
    "        meta=run_date_time, \n",
    "        dtype=pd.Timestamp, \n",
    "        description=\"The run date/time the model is executed.\"\n",
    "    )\n",
    "    table = define_asset(\n",
    "        dtype=pd.DataFrame, \n",
    "        description=\"The table produced with the projected reserve amount.\"\n",
    "    )\n",
    "\n",
    "    @step(uses=[\"valuation_date\", \"benefit_end_date\"], impacts=[\"table\"])\n",
    "    def _create_projected_frame(self):\n",
    "        \"\"\"Create projected frame.\"\"\"\n",
    "        self.table = create_frame(\n",
    "            start_dt=self.valuation_date, \n",
    "            end_dt=self.benefit_end_date, \n",
    "            frequency=\"Y\", \n",
    "            col_date_nm=\"DATE\", \n",
    "            duration_year=\"DURATION_YEAR\"\n",
    "        )\n",
    "\n",
    "    @step(uses=[\"table\", \"benefit_amount\", \"cola_percent\"], impacts=[\"table\"])\n",
    "    def _calculate_expected_benefit(self):\n",
    "        \"\"\"Calculate expected benefits.\"\"\"\n",
    "        self.table[\"BENEFIT_AMOUNT\"] = (\n",
    "            self.benefit_amount * (1 + self.cola_percent) ** self.table[\"DURATION_YEAR\"]\n",
    "        )\n",
    "\n",
    "    @step(uses=[\"table\", \"gender\", \"occupation_class\"], impacts=[\"table\"])\n",
    "    def _calculate_ctr(self):\n",
    "        \"\"\"Calculate claim termination rate.\"\"\"\n",
    "        ctrs = {\n",
    "            (\"M\", \"1\"): 0.01,\n",
    "            (\"M\", \"2\"): 0.02,\n",
    "            (\"F\", \"1\"): 0.015,\n",
    "            (\"F\", \"2\"): 0.025,\n",
    "        }\n",
    "        self.table[\"CTR\"] = ctrs.get((self.gender, self.occupation_class))\n",
    "\n",
    "    @step(uses=[\"table\"], impacts=[\"table\"])\n",
    "    def _calculate_lives_inforce(self):\n",
    "        \"\"\"Calculate lives inforce at the end of the duration.\"\"\"\n",
    "        self.table[\"LIVES_INFORCE\"] = (1 - self.table[\"CTR\"]).cumprod()\n",
    "\n",
    "    @step(uses=[\"table\", \"interest_rate\"], impacts=[\"table\"])\n",
    "    def _calculcate_discount(self):\n",
    "        \"\"\"Calculate discount factor at the end of the duration.\"\"\"\n",
    "        self.table[\"DISCOUNT_FACTOR\"] = (\n",
    "            1 / (1 + self.interest_rate) ** self.table[\"DURATION_YEAR\"]\n",
    "        )\n",
    "\n",
    "    @step(uses=[\"table\"], impacts=[\"table\"])\n",
    "    def _calculate_pv_benefits(self):\n",
    "        \"\"\"Calcualte present value (PV) of benefits.\"\"\"\n",
    "        prod_cols = [\"LIVES_INFORCE\", \"DISCOUNT_FACTOR\", \"BENEFIT_AMOUNT\"]\n",
    "        self.table[\"PV_FUTURE_BENEFITS\"] = (\n",
    "            self.table[prod_cols].prod(axis=1).iloc[::-1].cumsum()\n",
    "        )\n",
    "\n",
    "    @step(uses=[\"table\", \"policy_id\", \"claim_id\", \"run_date_time\"], impacts=[\"table\"])\n",
    "    def _prepare_final_output(self):\n",
    "        \"\"\"Prepare table for final output.\"\"\" \n",
    "        self.table[\"POLICY_ID\"] = self.policy_id\n",
    "        self.table[\"CLAIM_ID\"] = self.claim_id\n",
    "        self.table[\"RUN_DATE_TIME\"] = self.run_date_time\n",
    "        col_order = [\n",
    "            \"RUN_DATE_TIME\", \n",
    "            \"POLICY_ID\", \n",
    "            \"CLAIM_ID\", \n",
    "            \"CTR\", \n",
    "            \"LIVES_INFORCE\", \n",
    "            \"DISCOUNT_FACTOR\", \n",
    "            \"BENEFIT_AMOUNT\", \n",
    "            \"PV_FUTURE_BENEFITS\"\n",
    "        ]\n",
    "        self.table = self.table[col_order]\n"
   ]
  },
  {
   "cell_type": "markdown",
   "metadata": {},
   "source": [
    "**Imports**\n",
    "\n",
    "Building the model we start off importing a few libraries with the first set coming from the `footings` library.\n",
    "\n",
    "- `define_parameter` is how a paramter is created in the Footings framework.\n",
    "- `define_meta` is how metadata is added to a model in the Footings framework.\n",
    "- `define_asset` is how an object that is created by the model is defined. In this example, we want the model to return a table, so we need to create a table under the model as an asset.\n",
    "- `model` as mentiond earlier is the decorator that defines the step order of the model.\n",
    "- `Footing` is the required parent class of a model.\n",
    "- `step` is the decorator used to establish a step.\n",
    "\n",
    "Next, from `footings.tools` two helper functions are imported - `run_date_time` and `create_frame` that are used by the model. Lastly, `pandas` is imported because it is used as the underlying object supporting the table. \n",
    "\n"
   ]
  },
  {
   "cell_type": "markdown",
   "metadata": {},
   "source": [
    "**Attributes**\n",
    "\n",
    "Skipping `STEPS`, under `class DLRModel(Footing)` are the model attributes. Notice they are defined using `define_parameter`, `define_meta`, and `define_asset`. A parameter attribute will be exposed to the end user of the model. These attributes are frozen and cannot be changed once instantiation occurs. A meta attribute is not exposed to the end user as a model input. It is a frozen attribute that records the date/time when a model is instantiated. Finally, an asset parameter is an attribute that the model either creates or modifies. It is not exposed to the user as a parameter. However, on instantiation the attribute is created and can be modified by methods.\n",
    "\n",
    "For all the attributes, we can define data types (dtype), descriptions, specifications on values, etc. Later on `help` is ran on the model and you will notice the descriptions and data types are actually added to the model documentation.\n"
   ]
  },
  {
   "cell_type": "markdown",
   "metadata": {},
   "source": [
    "**Steps**\n",
    "\n",
    "The steps to the model are ordered with a `list` and passed into `@model`. Notice that each step is a method under the class `DLRModel`. Each method is decorated using `@step` and displays what attributes the step uses and impacts. The model does nothing internally with these. It is instead used to help tell the story of what each step is doing. In addition, notice that each method does not return an object. Instead, each method modifies `self.table` which is the only asset the model produces and is returned once the model is finish running."
   ]
  },
  {
   "cell_type": "markdown",
   "metadata": {},
   "source": [
    "## Running the model\n",
    "\n",
    "The subclassing `Footings` exposes the main methods - \n",
    "\n",
    "- `run` which executes the model returning all assets from the model. If more than one asset is created a tuple of results will be returned. In addition, `run` does take an opitional parameter `to_step` which will run the model to a specific step of the model and return itself.\n",
    "- `audit` excecutest the model in audit mode. In audit mode, the model has a snapshot of itself taking at each step so each step can be analyzed independently of the other steps. This method is useful for satisfying any internal audit emulators describing the process used to create model output.\n",
    "- `visualize` produces a visualization of the steps of the model as well as the interation among the different attributes.\n",
    "\n",
    "These methods and a host of other information is available when running `help` on the object `DLRModel`.\n"
   ]
  },
  {
   "cell_type": "code",
   "execution_count": 2,
   "metadata": {
    "tags": []
   },
   "outputs": [
    {
     "output_type": "stream",
     "name": "stdout",
     "text": [
      "Help on class DLRModel in module __main__:\n\nclass DLRModel(footings.core.model.Footing)\n |  DLRModel(*, policy_id: 'str', claim_id: 'str', valuation_date: 'Timestamp', benefit_end_date: 'Timestamp', benefit_amount: 'float', cola_percent: 'float', gender: 'str', occupation_class: 'str', interest_rate: 'float') -> 'DLRModel'\n |  \n |  Simple DLR model example.\n |  \n |  Parameters\n |  ----------\n |  policy_id : str\n |      The policy id of the disabled policy holder.\n |  claim_id : str\n |      The claim id of the disabled policy holder.\n |  valuation_date : Timestamp\n |      The valuation date the model needs to be ran as of.\n |  benefit_end_date : Timestamp\n |      The benefit end date for the disabled policy holder.\n |  benefit_amount : float\n |      The benefit amount as of the valuation date.\n |  cola_percent : float\n |      The cost of living adjustment.\n |  gender : str\n |      The gender of the disabled policy holder.\n |  occupation_class : str\n |      The occupation class of the disabled policy holder.\n |  interest_rate : float\n |      The interest rate used for discounting.\n |  \n |  Meta\n |  ----\n |  run_date_time : Timestamp\n |      The run date/time the model is executed.\n |  \n |  Assets\n |  ------\n |  table : DataFrame\n |      The table produced with the projected reserve amount.\n |  \n |  Steps\n |  -----\n |  1. _create_projected_frame - Create projected frame.\n |  2. _calculate_expected_benefit - Calculate expected benefits.\n |  3. _calculate_ctr - Calculate claim termination rate.\n |  4. _calculate_lives_inforce - Calculate lives inforce at the end of the duration.\n |  5. _calculcate_discount - Calculate discount factor at the end of the duration.\n |  6. _calculate_pv_benefits - Calcualte present value (PV) of benefits.\n |  7. _prepare_final_output - Prepare table for final output.\n |  \n |  Method resolution order:\n |      DLRModel\n |      footings.core.model.Footing\n |      builtins.object\n |  \n |  Methods defined here:\n |  \n |  __eq__(self, other)\n |      Method generated by attrs for class DLRModel.\n |  \n |  __ge__(self, other)\n |      Method generated by attrs for class DLRModel.\n |  \n |  __getstate__ = slots_getstate(self)\n |      Automatically created by attrs.\n |  \n |  __gt__(self, other)\n |      Method generated by attrs for class DLRModel.\n |  \n |  __init__(self, *, policy_id: 'str', claim_id: 'str', valuation_date: 'Timestamp', benefit_end_date: 'Timestamp', benefit_amount: 'float', cola_percent: 'float', gender: 'str', occupation_class: 'str', interest_rate: 'float') -> None\n |      Method generated by attrs for class DLRModel.\n |  \n |  __le__(self, other)\n |      Method generated by attrs for class DLRModel.\n |  \n |  __lt__(self, other)\n |      Method generated by attrs for class DLRModel.\n |  \n |  __ne__(self, other)\n |      Method generated by attrs for class DLRModel.\n |  \n |  __setattr__(self, name, val)\n |      Method generated by attrs for class DLRModel.\n |  \n |  __setstate__ = slots_setstate(self, state)\n |      Automatically created by attrs.\n |  \n |  ----------------------------------------------------------------------\n |  Data descriptors defined here:\n |  \n |  assets\n |  \n |  benefit_amount\n |  \n |  benefit_end_date\n |  \n |  claim_id\n |  \n |  cola_percent\n |  \n |  gender\n |  \n |  interest_rate\n |  \n |  occupation_class\n |  \n |  policy_id\n |  \n |  run_date_time\n |  \n |  steps\n |  \n |  table\n |  \n |  valuation_date\n |  \n |  ----------------------------------------------------------------------\n |  Data and other attributes defined here:\n |  \n |  __attrs_attrs__ = (Attribute(name='policy_id', default=NOTHING, va... ...\n |  \n |  __attrs_own_setattr__ = True\n |  \n |  __hash__ = None\n |  \n |  __signature__ = <Signature (*, policy_id: 'str', claim_id: 'str'...ss:...\n |  \n |  ----------------------------------------------------------------------\n |  Methods inherited from footings.core.model.Footing:\n |  \n |  audit(self, file: str, **kwargs)\n |      Audit the model which returns copies of the object as it is modified across each step.\n |      \n |      Parameters\n |      ----------\n |      file : str\n |          The name of the audit file.\n |      kwargs\n |          Additional key words passed to audit.\n |      \n |      Returns\n |      -------\n |      None\n |          An audit file in specfified format (e.g., .xlsx).\n |  \n |  run(self, to_step=None)\n |      Runs the model and returns any assets defined.\n |      \n |      Parameters\n |      ----------\n |      to_step : str\n |          The name of the step to run model to.\n |  \n |  visualize(self)\n |      Visualize the model to get an understanding of what model attributes are used and when.\n |  \n |  ----------------------------------------------------------------------\n |  Data descriptors inherited from footings.core.model.Footing:\n |  \n |  __weakref__\n |      list of weak references to the object (if defined)\n |  \n |  ----------------------------------------------------------------------\n |  Data and other attributes inherited from footings.core.model.Footing:\n |  \n |  __annotations__ = {'assets': <class 'list'>, 'steps': <class 'list'>}\n\n"
     ]
    }
   ],
   "source": [
    "help(DLRModel)"
   ]
  },
  {
   "cell_type": "markdown",
   "metadata": {},
   "source": [
    "When viewing the documentation after running `help`, notice that the model returns a docstring with all the attributes split between parameters, meta, and assets with each assoiated data type and description. The Footings framework wants to make it easy to document models and turning code into readable documentation displays this concept."
   ]
  },
  {
   "cell_type": "markdown",
   "metadata": {},
   "source": [
    "To run the model, we first need to instantiate the model."
   ]
  },
  {
   "cell_type": "code",
   "execution_count": 3,
   "metadata": {},
   "outputs": [],
   "source": [
    "dlr_model = DLRModel(\n",
    "    policy_id=\"M1\",\n",
    "    claim_id=\"C1\",\n",
    "    valuation_date=pd.Timestamp(\"2020-01-01\"),\n",
    "    benefit_end_date=pd.Timestamp(\"2030-12-31\"),\n",
    "    benefit_amount=100,\n",
    "    cola_percent=0.02,\n",
    "    gender=\"M\",\n",
    "    occupation_class=\"1\",\n",
    "    interest_rate=0.03,\n",
    ")"
   ]
  },
  {
   "cell_type": "markdown",
   "metadata": {},
   "source": [
    "The model can then be running calling the `run` method."
   ]
  },
  {
   "cell_type": "code",
   "execution_count": 4,
   "metadata": {},
   "outputs": [
    {
     "output_type": "execute_result",
     "data": {
      "text/plain": [
       "                RUN_DATE_TIME POLICY_ID CLAIM_ID   CTR  LIVES_INFORCE  \\\n",
       "0  2020-11-13 05:40:38.189141        M1       C1  0.01       0.990000   \n",
       "1  2020-11-13 05:40:38.189141        M1       C1  0.01       0.980100   \n",
       "2  2020-11-13 05:40:38.189141        M1       C1  0.01       0.970299   \n",
       "3  2020-11-13 05:40:38.189141        M1       C1  0.01       0.960596   \n",
       "4  2020-11-13 05:40:38.189141        M1       C1  0.01       0.950990   \n",
       "5  2020-11-13 05:40:38.189141        M1       C1  0.01       0.941480   \n",
       "6  2020-11-13 05:40:38.189141        M1       C1  0.01       0.932065   \n",
       "7  2020-11-13 05:40:38.189141        M1       C1  0.01       0.922745   \n",
       "8  2020-11-13 05:40:38.189141        M1       C1  0.01       0.913517   \n",
       "9  2020-11-13 05:40:38.189141        M1       C1  0.01       0.904382   \n",
       "10 2020-11-13 05:40:38.189141        M1       C1  0.01       0.895338   \n",
       "11 2020-11-13 05:40:38.189141        M1       C1  0.01       0.886385   \n",
       "\n",
       "    DISCOUNT_FACTOR  BENEFIT_AMOUNT  PV_FUTURE_BENEFITS  \n",
       "0          0.970874      102.000000         1057.508396  \n",
       "1          0.942596      104.040000          959.469561  \n",
       "2          0.915142      106.120800          863.353429  \n",
       "3          0.888487      108.243216          769.122294  \n",
       "4          0.862609      110.408080          676.739186  \n",
       "5          0.837484      112.616242          586.167864  \n",
       "6          0.813092      114.868567          497.372795  \n",
       "7          0.789409      117.165938          410.319143  \n",
       "8          0.766417      119.509257          324.972758  \n",
       "9          0.744094      121.899442          241.300156  \n",
       "10         0.722421      124.337431          159.268511  \n",
       "11         0.701380      126.824179           78.845643  "
      ],
      "text/html": "<div>\n<style scoped>\n    .dataframe tbody tr th:only-of-type {\n        vertical-align: middle;\n    }\n\n    .dataframe tbody tr th {\n        vertical-align: top;\n    }\n\n    .dataframe thead th {\n        text-align: right;\n    }\n</style>\n<table border=\"1\" class=\"dataframe\">\n  <thead>\n    <tr style=\"text-align: right;\">\n      <th></th>\n      <th>RUN_DATE_TIME</th>\n      <th>POLICY_ID</th>\n      <th>CLAIM_ID</th>\n      <th>CTR</th>\n      <th>LIVES_INFORCE</th>\n      <th>DISCOUNT_FACTOR</th>\n      <th>BENEFIT_AMOUNT</th>\n      <th>PV_FUTURE_BENEFITS</th>\n    </tr>\n  </thead>\n  <tbody>\n    <tr>\n      <th>0</th>\n      <td>2020-11-13 05:40:38.189141</td>\n      <td>M1</td>\n      <td>C1</td>\n      <td>0.01</td>\n      <td>0.990000</td>\n      <td>0.970874</td>\n      <td>102.000000</td>\n      <td>1057.508396</td>\n    </tr>\n    <tr>\n      <th>1</th>\n      <td>2020-11-13 05:40:38.189141</td>\n      <td>M1</td>\n      <td>C1</td>\n      <td>0.01</td>\n      <td>0.980100</td>\n      <td>0.942596</td>\n      <td>104.040000</td>\n      <td>959.469561</td>\n    </tr>\n    <tr>\n      <th>2</th>\n      <td>2020-11-13 05:40:38.189141</td>\n      <td>M1</td>\n      <td>C1</td>\n      <td>0.01</td>\n      <td>0.970299</td>\n      <td>0.915142</td>\n      <td>106.120800</td>\n      <td>863.353429</td>\n    </tr>\n    <tr>\n      <th>3</th>\n      <td>2020-11-13 05:40:38.189141</td>\n      <td>M1</td>\n      <td>C1</td>\n      <td>0.01</td>\n      <td>0.960596</td>\n      <td>0.888487</td>\n      <td>108.243216</td>\n      <td>769.122294</td>\n    </tr>\n    <tr>\n      <th>4</th>\n      <td>2020-11-13 05:40:38.189141</td>\n      <td>M1</td>\n      <td>C1</td>\n      <td>0.01</td>\n      <td>0.950990</td>\n      <td>0.862609</td>\n      <td>110.408080</td>\n      <td>676.739186</td>\n    </tr>\n    <tr>\n      <th>5</th>\n      <td>2020-11-13 05:40:38.189141</td>\n      <td>M1</td>\n      <td>C1</td>\n      <td>0.01</td>\n      <td>0.941480</td>\n      <td>0.837484</td>\n      <td>112.616242</td>\n      <td>586.167864</td>\n    </tr>\n    <tr>\n      <th>6</th>\n      <td>2020-11-13 05:40:38.189141</td>\n      <td>M1</td>\n      <td>C1</td>\n      <td>0.01</td>\n      <td>0.932065</td>\n      <td>0.813092</td>\n      <td>114.868567</td>\n      <td>497.372795</td>\n    </tr>\n    <tr>\n      <th>7</th>\n      <td>2020-11-13 05:40:38.189141</td>\n      <td>M1</td>\n      <td>C1</td>\n      <td>0.01</td>\n      <td>0.922745</td>\n      <td>0.789409</td>\n      <td>117.165938</td>\n      <td>410.319143</td>\n    </tr>\n    <tr>\n      <th>8</th>\n      <td>2020-11-13 05:40:38.189141</td>\n      <td>M1</td>\n      <td>C1</td>\n      <td>0.01</td>\n      <td>0.913517</td>\n      <td>0.766417</td>\n      <td>119.509257</td>\n      <td>324.972758</td>\n    </tr>\n    <tr>\n      <th>9</th>\n      <td>2020-11-13 05:40:38.189141</td>\n      <td>M1</td>\n      <td>C1</td>\n      <td>0.01</td>\n      <td>0.904382</td>\n      <td>0.744094</td>\n      <td>121.899442</td>\n      <td>241.300156</td>\n    </tr>\n    <tr>\n      <th>10</th>\n      <td>2020-11-13 05:40:38.189141</td>\n      <td>M1</td>\n      <td>C1</td>\n      <td>0.01</td>\n      <td>0.895338</td>\n      <td>0.722421</td>\n      <td>124.337431</td>\n      <td>159.268511</td>\n    </tr>\n    <tr>\n      <th>11</th>\n      <td>2020-11-13 05:40:38.189141</td>\n      <td>M1</td>\n      <td>C1</td>\n      <td>0.01</td>\n      <td>0.886385</td>\n      <td>0.701380</td>\n      <td>126.824179</td>\n      <td>78.845643</td>\n    </tr>\n  </tbody>\n</table>\n</div>"
     },
     "metadata": {},
     "execution_count": 4
    }
   ],
   "source": [
    "dlr_model.run()"
   ]
  },
  {
   "cell_type": "markdown",
   "metadata": {},
   "source": [
    "To audit the model, call the `audit` method."
   ]
  },
  {
   "cell_type": "code",
   "execution_count": 5,
   "metadata": {},
   "outputs": [],
   "source": [
    "dlr_model.audit(\"dlr-model-audit.xlsx\")"
   ]
  },
  {
   "cell_type": "markdown",
   "metadata": {},
   "source": [
    "To visualize the model, call the `visualize` method. Note this is not fully implemented yet."
   ]
  },
  {
   "cell_type": "code",
   "execution_count": 6,
   "metadata": {},
   "outputs": [
    {
     "output_type": "execute_result",
     "data": {
      "text/plain": [
       "<__main__.DLRModel at 0x7fedfce4dcb0>"
      ]
     },
     "metadata": {},
     "execution_count": 6
    }
   ],
   "source": [
    "dlr_model.visualize()"
   ]
  },
  {
   "cell_type": "markdown",
   "metadata": {},
   "source": [
    "To see more examples of the `footings` framework in action, visit the footings organizational [github site](https://www.github.com/footings)."
   ]
  }
 ]
}
